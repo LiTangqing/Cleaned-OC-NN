{
 "cells": [
  {
   "cell_type": "code",
   "execution_count": 1,
   "metadata": {},
   "outputs": [],
   "source": [
    "import numpy  as np\n",
    "import pandas as pd\n",
    "import matplotlib.pyplot as plt\n",
    "import seaborn as srn\n",
    "import sys  \n",
    "import os"
   ]
  },
  {
   "cell_type": "code",
   "execution_count": 2,
   "metadata": {},
   "outputs": [],
   "source": [
    "cwd = os.getcwd() \n",
    "sys.path.append(cwd+\"/data_load/\")\n",
    "sys.path.append(cwd+\"/models/\")\n",
    "sys.path.append(cwd+\"/metrics/\")"
   ]
  },
  {
   "cell_type": "markdown",
   "metadata": {},
   "source": [
    "### CIFAR-10 "
   ]
  },
  {
   "cell_type": "markdown",
   "metadata": {},
   "source": [
    "#### 1. Prepare dataset"
   ]
  },
  {
   "cell_type": "code",
   "execution_count": 3,
   "metadata": {},
   "outputs": [],
   "source": [
    "dataset = \"CIFAR-10\""
   ]
  },
  {
   "cell_type": "code",
   "execution_count": 4,
   "metadata": {},
   "outputs": [],
   "source": [
    "train_path = cwd+\"/data/cifar-10_data/normal/\"\n",
    "test_path = cwd+\"/data/cifar-10_data/anoma/\""
   ]
  },
  {
   "cell_type": "code",
   "execution_count": 5,
   "metadata": {},
   "outputs": [
    {
     "name": "stderr",
     "output_type": "stream",
     "text": [
      "Using TensorFlow backend.\n"
     ]
    }
   ],
   "source": [
    "from load_datasets import prepare_cifar_data_for_rpca_forest_ocsvm,prepare_cifar_data_for_cae_ocsvm"
   ]
  },
  {
   "cell_type": "code",
   "execution_count": 6,
   "metadata": {
    "scrolled": true
   },
   "outputs": [
    {
     "name": "stdout",
     "output_type": "stream",
     "text": [
      "[INFO] loading images for training...\n",
      "[INFO] preparing test data (anomalous )...\n",
      "(50, 3072)\n",
      "(5, 3072)\n"
     ]
    }
   ],
   "source": [
    "[raw_train,  raw_test] =  prepare_cifar_data_for_rpca_forest_ocsvm(train_path,test_path)\n",
    "print (raw_train.shape)\n",
    "print (raw_test.shape)"
   ]
  },
  {
   "cell_type": "markdown",
   "metadata": {},
   "source": [
    "#### 2. Prepare models for transfer learning"
   ]
  },
  {
   "cell_type": "code",
   "execution_count": 7,
   "metadata": {},
   "outputs": [],
   "source": [
    "modelpath = cwd + \"/models/transfer_learning/cae_autoencoders/trained_models/cifar10_conv_3_id_32_e_1000_encoder.model\"\n",
    "ae2_modelpath = cwd + \"/models/transfer_learning/cae_autoencoders/trained_models/cifar10_AE2_3_id_256_e_10_encoder.model\""
   ]
  },
  {
   "cell_type": "code",
   "execution_count": 8,
   "metadata": {},
   "outputs": [
    {
     "name": "stdout",
     "output_type": "stream",
     "text": [
      "[INFO] loading network...\n",
      "base_model.output (?, 32)\n",
      "base_model.input (?, 32, 32, 3)\n",
      "_________________________________________________________________\n",
      "Layer (type)                 Output Shape              Param #   \n",
      "=================================================================\n",
      "input_1 (InputLayer)         (None, 32, 32, 3)         0         \n",
      "_________________________________________________________________\n",
      "conv2d_1 (Conv2D)            (None, 32, 32, 32)        896       \n",
      "_________________________________________________________________\n",
      "max_pooling2d_1 (MaxPooling2 (None, 16, 16, 32)        0         \n",
      "_________________________________________________________________\n",
      "conv2d_2 (Conv2D)            (None, 16, 16, 64)        18496     \n",
      "_________________________________________________________________\n",
      "max_pooling2d_2 (MaxPooling2 (None, 8, 8, 64)          0         \n",
      "_________________________________________________________________\n",
      "conv2d_3 (Conv2D)            (None, 8, 8, 128)         73856     \n",
      "_________________________________________________________________\n",
      "max_pooling2d_3 (MaxPooling2 (None, 4, 4, 128)         0         \n",
      "_________________________________________________________________\n",
      "conv2d_4 (Conv2D)            (None, 4, 4, 256)         295168    \n",
      "_________________________________________________________________\n",
      "max_pooling2d_4 (MaxPooling2 (None, 2, 2, 256)         0         \n",
      "_________________________________________________________________\n",
      "flatten_1 (Flatten)          (None, 1024)              0         \n",
      "_________________________________________________________________\n",
      "dense_1 (Dense)              (None, 32)                32800     \n",
      "_________________________________________________________________\n",
      "dense_output1 (Dense)        (None, 512)               16896     \n",
      "_________________________________________________________________\n",
      "output_activation1 (Activati (None, 512)               0         \n",
      "_________________________________________________________________\n",
      "dense_output2 (Dense)        (None, 1)                 513       \n",
      "_________________________________________________________________\n",
      "output_activation2 (Activati (None, 1)                 0         \n",
      "=================================================================\n",
      "Total params: 438,625\n",
      "Trainable params: 438,625\n",
      "Non-trainable params: 0\n",
      "_________________________________________________________________\n",
      "None\n",
      "Length of model layers... 15\n",
      "[INFO] loading images for training...\n",
      "[INFO] preparing test data (anomalous )...\n"
     ]
    },
    {
     "name": "stderr",
     "output_type": "stream",
     "text": [
      "/anaconda3/lib/python3.6/site-packages/keras/engine/saving.py:292: UserWarning: No training configuration found in save file: the model was *not* compiled. Compile it manually.\n",
      "  warnings.warn('No training configuration found in save file: '\n"
     ]
    }
   ],
   "source": [
    "[data_train, data_test] =  prepare_cifar_data_for_cae_ocsvm(train_path,test_path, modelpath) "
   ]
  },
  {
   "cell_type": "markdown",
   "metadata": {},
   "source": [
    "#### 3. OC-NN"
   ]
  },
  {
   "cell_type": "markdown",
   "metadata": {},
   "source": [
    "3 on-nn models with different activation are avaliable and can be called via these function call:\n",
    "\n",
    "1. tf_OneClass_NN_linear(data_train, data_test, nu, verbose=True)\n",
    "2. tf_OneClass_NN_sigmoid(data_train, data_test, nu, verbose=True)\n",
    "3. tf_OneClass_NN_relu(data_train, data_test, nu, verbose=True)\n",
    "\n",
    "Each returns a list of the following format:\n",
    "[pos_decisionScore, neg_decisionScore, trainTime, testTime]\n",
    "\n",
    "(source at ./models/transfer_learning/tf_Cifar_OC_NN_Models.py)"
   ]
  },
  {
   "cell_type": "markdown",
   "metadata": {},
   "source": [
    "**Take oc_nn_linear as example**"
   ]
  },
  {
   "cell_type": "code",
   "execution_count": 9,
   "metadata": {},
   "outputs": [
    {
     "name": "stdout",
     "output_type": "stream",
     "text": [
      "Input Shape: 32\n",
      "====== Session Completed ======\n",
      "Writing file to  /Users/litangqing/tensor-conda/cleaned_ocNN/Decision_Scores/oc_nn_linear_cifar.csv\n"
     ]
    }
   ],
   "source": [
    "from tf_Cifar_OC_NN_Models import tf_OneClass_NN_linear,tf_OneClass_NN_sigmoid,tf_OneClass_NN_relu\n",
    "\n",
    "nu = 0.1 #initial quantile (?)\n",
    "\n",
    "ocnn_linear_result = tf_OneClass_NN_linear(data_train,data_test,nu, verbose=False)"
   ]
  },
  {
   "cell_type": "markdown",
   "metadata": {},
   "source": [
    "***Access results***"
   ]
  },
  {
   "cell_type": "code",
   "execution_count": 10,
   "metadata": {
    "scrolled": true
   },
   "outputs": [
    {
     "data": {
      "text/plain": [
       "array([12.424004  , -0.07378769, 10.797293  ,  5.941002  ,  1.5489948 ,\n",
       "        6.645074  ,  2.126851  ,  1.7263534 , 14.279143  ,  2.7593517 ],\n",
       "      dtype=float32)"
      ]
     },
     "execution_count": 10,
     "metadata": {},
     "output_type": "execute_result"
    }
   ],
   "source": [
    "pos_decision_score_linear = ocnn_linear_result[0]\n",
    "neg_decision_score_linear = ocnn_linear_result[1]\n",
    "pos_decision_score_linear[:10]"
   ]
  },
  {
   "cell_type": "code",
   "execution_count": 11,
   "metadata": {},
   "outputs": [
    {
     "data": {
      "text/plain": [
       "(1.05110502243042, 0.002557992935180664)"
      ]
     },
     "execution_count": 11,
     "metadata": {},
     "output_type": "execute_result"
    }
   ],
   "source": [
    "train_time, test_time = ocnn_linear_result[2], ocnn_linear_result[3]\n",
    "(train_time, test_time)"
   ]
  },
  {
   "cell_type": "code",
   "execution_count": 12,
   "metadata": {},
   "outputs": [
    {
     "data": {
      "text/html": [
       "<div>\n",
       "<style scoped>\n",
       "    .dataframe tbody tr th:only-of-type {\n",
       "        vertical-align: middle;\n",
       "    }\n",
       "\n",
       "    .dataframe tbody tr th {\n",
       "        vertical-align: top;\n",
       "    }\n",
       "\n",
       "    .dataframe thead th {\n",
       "        text-align: right;\n",
       "    }\n",
       "</style>\n",
       "<table border=\"1\" class=\"dataframe\">\n",
       "  <thead>\n",
       "    <tr style=\"text-align: right;\">\n",
       "      <th></th>\n",
       "      <th>Normal</th>\n",
       "      <th>Anomaly</th>\n",
       "    </tr>\n",
       "  </thead>\n",
       "  <tbody>\n",
       "    <tr>\n",
       "      <th>0</th>\n",
       "      <td>12.424004</td>\n",
       "      <td>-8.908887</td>\n",
       "    </tr>\n",
       "    <tr>\n",
       "      <th>1</th>\n",
       "      <td>-0.073788</td>\n",
       "      <td>-14.335208</td>\n",
       "    </tr>\n",
       "    <tr>\n",
       "      <th>2</th>\n",
       "      <td>10.797293</td>\n",
       "      <td>-8.288349</td>\n",
       "    </tr>\n",
       "    <tr>\n",
       "      <th>3</th>\n",
       "      <td>5.941002</td>\n",
       "      <td>-20.861267</td>\n",
       "    </tr>\n",
       "    <tr>\n",
       "      <th>4</th>\n",
       "      <td>1.548995</td>\n",
       "      <td>-1.898455</td>\n",
       "    </tr>\n",
       "  </tbody>\n",
       "</table>\n",
       "</div>"
      ],
      "text/plain": [
       "      Normal    Anomaly\n",
       "0  12.424004  -8.908887\n",
       "1  -0.073788 -14.335208\n",
       "2  10.797293  -8.288349\n",
       "3   5.941002 -20.861267\n",
       "4   1.548995  -1.898455"
      ]
     },
     "execution_count": 12,
     "metadata": {},
     "output_type": "execute_result"
    }
   ],
   "source": [
    "decision_score_linear = pd.read_csv(\"./Decision_Scores/oc_nn_linear_cifar.csv\")\n",
    "decision_score_linear.head()"
   ]
  },
  {
   "cell_type": "code",
   "execution_count": 13,
   "metadata": {},
   "outputs": [
    {
     "data": {
      "text/plain": [
       "<matplotlib.legend.Legend at 0x131205588>"
      ]
     },
     "execution_count": 13,
     "metadata": {},
     "output_type": "execute_result"
    },
    {
     "data": {
      "image/png": "[encoded data removed]",
      "text/plain": [
       "<Figure size 432x288 with 1 Axes>"
      ]
     },
     "metadata": {},
     "output_type": "display_data"
    }
   ],
   "source": [
    "srn.set()\n",
    "srn.distplot(decision_score_linear['Normal'],kde=False,label=\"Normal\")\n",
    "srn.distplot(decision_score_linear['Anomaly'][~pd.isnull(decision_score_linear['Anomaly'])],\n",
    "             kde=False,label='Anomaly')\n",
    "plt.xlabel(\"Decision Score\")\n",
    "plt.ylabel(\"Count\")\n",
    "plt.legend()"
   ]
  }
 ],
 "metadata": {
  "kernelspec": {
   "display_name": "Python [default]",
   "language": "python",
   "name": "python3"
  },
  "language_info": {
   "codemirror_mode": {
    "name": "ipython",
    "version": 3
   },
   "file_extension": ".py",
   "mimetype": "text/x-python",
   "name": "python",
   "nbconvert_exporter": "python",
   "pygments_lexer": "ipython3",
   "version": "3.6.2"
  }
 },
 "nbformat": 4,
 "nbformat_minor": 2
}
